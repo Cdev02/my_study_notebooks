{
 "cells": [
  {
   "cell_type": "code",
   "execution_count": 2,
   "id": "eaa8571b",
   "metadata": {},
   "outputs": [],
   "source": [
    "import pandas as pd\n",
    "import numpy as np\n",
    "import matplotlib.pyplot as plt\n",
    "from sklearn.linear_model import LinearRegression\n",
    "from sklearn.metrics import mean_absolute_error, mean_squared_error, r2_score\n",
    "from sklearn.model_selection import train_test_split\n",
    "import seaborn as sns\n",
    "from qbstyles import mpl_style"
   ]
  },
  {
   "cell_type": "code",
   "execution_count": 3,
   "id": "3544fbbe",
   "metadata": {},
   "outputs": [],
   "source": [
    "from sklearn.preprocessing import PolynomialFeatures\n",
    "from sklearn.linear_model import LinearRegression"
   ]
  },
  {
   "cell_type": "code",
   "execution_count": 4,
   "id": "dad80b70",
   "metadata": {},
   "outputs": [],
   "source": [
    "data = pd.read_csv('../data/Advertising.csv')"
   ]
  },
  {
   "cell_type": "code",
   "execution_count": 5,
   "id": "bffbcdee",
   "metadata": {
    "scrolled": true
   },
   "outputs": [],
   "source": [
    "data_x = data.drop('sales', axis = 1)"
   ]
  },
  {
   "cell_type": "code",
   "execution_count": 6,
   "id": "3d048d12",
   "metadata": {},
   "outputs": [],
   "source": [
    "from sklearn.model_selection import train_test_split"
   ]
  },
  {
   "cell_type": "code",
   "execution_count": 7,
   "id": "c85b7c5b",
   "metadata": {
    "scrolled": true
   },
   "outputs": [],
   "source": [
    "lin_reg = LinearRegression()"
   ]
  },
  {
   "cell_type": "markdown",
   "id": "e5e95483",
   "metadata": {},
   "source": [
    "### LET'S NOW TEST DIFFERENT POLYNOMIAL DEGREES AN THEN CHOOSE THE ONE THAT MAKES THE MODEL PERFORM BETTER."
   ]
  },
  {
   "cell_type": "code",
   "execution_count": 27,
   "id": "bd499a03",
   "metadata": {},
   "outputs": [],
   "source": [
    "X_train, X_test, y_train, y_test = train_test_split(data_x, data['sales'], test_size=0.3, random_state=101)"
   ]
  },
  {
   "cell_type": "code",
   "execution_count": 40,
   "id": "02b07ea3",
   "metadata": {},
   "outputs": [],
   "source": [
    "errors_test = []\n",
    "errors_train = []\n",
    "degrees = []\n",
    "for i in range(1,10):\n",
    "    degrees.append(i)\n",
    "    \n",
    "    poly_convert = PolynomialFeatures(degree = i, include_bias=False)\n",
    "    poly_data_train = poly_convert.fit_transform(X_train)\n",
    "    poly_data_test = poly_convert.transform(X_test)\n",
    "    \n",
    "    lin_reg.fit(poly_data_train, y_train)\n",
    "    \n",
    "    predictions_train = lin_reg.predict(poly_data_train)\n",
    "    predictions_test = lin_reg.predict(poly_data_test)\n",
    "    \n",
    "    errors_train.append(np.sqrt(mean_squared_error(y_train,predictions_train)))\n",
    "    errors_test.append(np.sqrt(mean_squared_error(y_test,predictions_test)))\n",
    "    "
   ]
  },
  {
   "cell_type": "code",
   "execution_count": 41,
   "id": "dd4e7c65",
   "metadata": {
    "scrolled": true
   },
   "outputs": [
    {
     "data": {
      "text/plain": [
       "[1.734594124329376,\n",
       " 0.5879574085292231,\n",
       " 0.4339344356902067,\n",
       " 0.35170836883993606,\n",
       " 0.25093429381786897,\n",
       " 0.1945666472024403,\n",
       " 5.423737279770718,\n",
       " 0.14168056686637134,\n",
       " 0.17093527228363956]"
      ]
     },
     "execution_count": 41,
     "metadata": {},
     "output_type": "execute_result"
    }
   ],
   "source": [
    "errors_train"
   ]
  },
  {
   "cell_type": "code",
   "execution_count": 44,
   "id": "7228f2c3",
   "metadata": {},
   "outputs": [
    {
     "data": {
      "text/plain": [
       "[<matplotlib.lines.Line2D at 0x240c8c1b430>]"
      ]
     },
     "execution_count": 44,
     "metadata": {},
     "output_type": "execute_result"
    },
    {
     "data": {
      "image/png": "[encoded data removed]",
      "text/plain": [
       "<Figure size 640x480 with 1 Axes>"
      ]
     },
     "metadata": {},
     "output_type": "display_data"
    }
   ],
   "source": [
    "plt.plot(degrees[:6],errors_train[:6])\n",
    "plt.plot(degrees[:6],errors_test[:6])"
   ]
  },
  {
   "cell_type": "markdown",
   "id": "766e11b8",
   "metadata": {},
   "source": [
    "#### By looking at this plot we can tell that as the polynomial degree increases, the model performance improves. However, from degree 4 we can notice that the model begins to overfit. So, the best choice in this case could be the polynomial features with degree 2 or 3, since the error is relatively low and without risk of overfitting (given that the model starts overfiting with degree 5, so a good choice would be 2 or 3 despite the fact that the best performance is with degree 4)"
   ]
  }
 ],
 "metadata": {
  "kernelspec": {
   "display_name": "Python 3 (ipykernel)",
   "language": "python",
   "name": "python3"
  },
  "language_info": {
   "codemirror_mode": {
    "name": "ipython",
    "version": 3
   },
   "file_extension": ".py",
   "mimetype": "text/x-python",
   "name": "python",
   "nbconvert_exporter": "python",
   "pygments_lexer": "ipython3",
   "version": "3.9.15"
  }
 },
 "nbformat": 4,
 "nbformat_minor": 5
}
